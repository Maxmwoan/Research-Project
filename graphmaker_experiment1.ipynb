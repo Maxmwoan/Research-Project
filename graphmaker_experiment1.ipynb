{
 "cells": [
  {
   "cell_type": "code",
   "execution_count": 25,
   "outputs": [],
   "source": [
    "import numpy as np\n",
    "import matplotlib.pyplot as plt"
   ],
   "metadata": {
    "collapsed": false,
    "ExecuteTime": {
     "end_time": "2025-05-15T06:44:29.013345300Z",
     "start_time": "2025-05-15T06:44:28.985706400Z"
    }
   },
   "id": "50c2629827c45d75"
  },
  {
   "cell_type": "code",
   "execution_count": 26,
   "id": "initial_id",
   "metadata": {
    "collapsed": true,
    "ExecuteTime": {
     "end_time": "2025-05-15T06:44:29.175411200Z",
     "start_time": "2025-05-15T06:44:29.006971800Z"
    }
   },
   "outputs": [
    {
     "name": "stdout",
     "output_type": "stream",
     "text": [
      "Mean absolute errors. avg:0.08935518749160422, stdev:0.08037876118275192\n",
      "\n",
      "Mean absolute errors. avg:0.08567063269772536, stdev:0.08348245344454909\n",
      "\n",
      "Mean absolute errors. avg:0.09083930730363086, stdev:0.08573331478939691\n",
      "\n",
      "Mean absolute errors. avg:0.08349935462167342, stdev:0.08192945155468012\n",
      "\n",
      "Mean absolute errors. avg:0.09080867369850276, stdev:0.07791750012289249\n",
      "\n",
      "Mean absolute errors. avg:0.10385967540165789, stdev:0.11308375131820211\n",
      "\n",
      "Mean absolute errors. avg:0.0993182164308224, stdev:0.09109145479861329\n",
      "\n",
      "Mean absolute errors. avg:0.08222991826839396, stdev:0.0736400063214161\n",
      "\n",
      "Mean absolute errors. avg:0.09535320905105424, stdev:0.134592990911899\n",
      "\n",
      "Mean absolute errors. avg:0.06195288209803433, stdev:0.08440481568037689\n",
      "\n",
      "Mean absolute errors. avg:0.09187505201436241, stdev:0.11720138269723689\n",
      "\n",
      "Mean absolute errors. avg:0.08393218888635712, stdev:0.11762495847573283\n",
      "\n",
      "Mean absolute errors. avg:0.09420298981934343, stdev:0.126067486323099\n",
      "\n",
      "Mean absolute errors. avg:0.10569958213800529, stdev:0.1225933562724112\n",
      "\n",
      "Mean absolute errors. avg:0.09181554375599368, stdev:0.12837597457752792\n",
      "\n",
      "Mean absolute errors. avg:0.14157226648749377, stdev:0.18798329752068083\n",
      "\n",
      "Mean absolute errors. avg:0.08513051093915192, stdev:0.08074574625810249\n",
      "\n",
      "Mean absolute errors. avg:0.09489561355494926, stdev:0.07753201650551268\n",
      "\n",
      "Mean absolute errors. avg:0.07255010429905304, stdev:0.0799018058092721\n",
      "\n",
      "Mean absolute errors. avg:0.07329223019298868, stdev:0.07568276915350296\n",
      "\n",
      "Mean absolute errors. avg:0.0940103273696468, stdev:0.08608264424147878\n",
      "\n",
      "Mean absolute errors. avg:0.1040282878520627, stdev:0.10181535026403665\n",
      "\n",
      "Mean absolute errors. avg:0.1075065365563632, stdev:0.0932573179544386\n",
      "\n",
      "Mean absolute errors. avg:0.05612152550731111, stdev:0.07882145635678892\n",
      "\n",
      "Mean absolute errors. avg:0.11892097797254525, stdev:0.14619852645290513\n",
      "\n",
      "Mean absolute errors. avg:0.11701320119843735, stdev:0.12627939092505303\n",
      "\n",
      "Mean absolute errors. avg:0.10393866647798368, stdev:0.1312926420572458\n",
      "\n",
      "Mean absolute errors. avg:0.1069077043855944, stdev:0.13823541981786044\n",
      "\n",
      "Mean absolute errors. avg:0.12104461501722742, stdev:0.138106761786398\n",
      "\n",
      "Mean absolute errors. avg:0.13355019084552172, stdev:0.13646535464059512\n",
      "\n",
      "Mean absolute errors. avg:0.1350458338834648, stdev:0.13576094269907504\n",
      "\n",
      "Mean absolute errors. avg:0.13861645512570922, stdev:0.21454189461671563\n",
      "\n",
      "Mean absolute errors. avg:0.09019585301518532, stdev:0.07099758737195958\n",
      "\n",
      "Mean absolute errors. avg:0.08067771912120392, stdev:0.059924358843991346\n",
      "\n",
      "Mean absolute errors. avg:0.09145174263731098, stdev:0.08302457925469445\n",
      "\n",
      "Mean absolute errors. avg:0.08524766615421847, stdev:0.06907472299844428\n",
      "\n",
      "Mean absolute errors. avg:0.08827843825091514, stdev:0.06699768337807993\n",
      "\n",
      "Mean absolute errors. avg:0.0991271783874635, stdev:0.10133142500116196\n",
      "\n",
      "Mean absolute errors. avg:0.09191042263037896, stdev:0.07780233986197078\n",
      "\n",
      "Mean absolute errors. avg:0.1032556755341894, stdev:0.08864292037626553\n",
      "\n",
      "Mean absolute errors. avg:0.10351549131265546, stdev:0.0988433115083755\n",
      "\n",
      "Mean absolute errors. avg:0.08786441519287669, stdev:0.07846748997949068\n",
      "\n",
      "Mean absolute errors. avg:0.10469890313551573, stdev:0.10167275074679273\n",
      "\n",
      "Mean absolute errors. avg:0.09231110252870205, stdev:0.09106182212995462\n",
      "\n",
      "Mean absolute errors. avg:0.10993807425703074, stdev:0.10041396381646567\n",
      "\n",
      "Mean absolute errors. avg:0.11566676443353854, stdev:0.11378812860573866\n",
      "\n",
      "Mean absolute errors. avg:0.1122017003911651, stdev:0.10345102284404023\n",
      "\n",
      "Mean absolute errors. avg:0.0976316734626381, stdev:0.12704002230328076\n",
      "\n",
      "Mean absolute errors. avg:0.13988234549087714, stdev:0.15865476120361313\n",
      "\n",
      "Mean absolute errors. avg:0.10239185547390703, stdev:0.11112249312817024\n",
      "\n",
      "Mean absolute errors. avg:0.1429977904738681, stdev:0.1443698370917489\n",
      "\n",
      "Mean absolute errors. avg:0.1329965745453902, stdev:0.14230753253184986\n",
      "\n",
      "Mean absolute errors. avg:0.1336325932208791, stdev:0.1421301403923294\n",
      "\n",
      "Mean absolute errors. avg:0.1442927456590694, stdev:0.15432748713086017\n",
      "\n",
      "Mean absolute errors. avg:0.12498773512981456, stdev:0.14127250505475672\n",
      "\n",
      "Mean absolute errors. avg:0.19491374309162088, stdev:0.23407977727370952\n",
      "\n",
      "Mean absolute errors. avg:0.12225218979082489, stdev:0.11284722288060231\n",
      "\n",
      "Mean absolute errors. avg:0.1303137100373662, stdev:0.11133790674179242\n",
      "\n",
      "Mean absolute errors. avg:0.1166995604186099, stdev:0.1195145928254342\n",
      "\n",
      "Mean absolute errors. avg:0.10777277000381232, stdev:0.11546495031737898\n",
      "\n",
      "Mean absolute errors. avg:0.12329454633938323, stdev:0.11371574216230382\n",
      "\n",
      "Mean absolute errors. avg:0.13683142912771068, stdev:0.13040856289720143\n",
      "\n",
      "Mean absolute errors. avg:0.14374616441481702, stdev:0.11447349819207286\n",
      "\n",
      "Mean absolute errors. avg:0.09628455573425633, stdev:0.08533063970413804\n",
      "\n",
      "[[0.08935519 0.08567063 0.09083931 0.08349935 0.09080867 0.10385968\n",
      "  0.09931822 0.08222992]\n",
      " [0.09535321 0.06195288 0.09187505 0.08393219 0.09420299 0.10569958\n",
      "  0.09181554 0.14157227]\n",
      " [0.08513051 0.09489561 0.0725501  0.07329223 0.09401033 0.10402829\n",
      "  0.10750654 0.05612153]\n",
      " [0.11892098 0.1170132  0.10393867 0.1069077  0.12104462 0.13355019\n",
      "  0.13504583 0.13861646]\n",
      " [0.09019585 0.08067772 0.09145174 0.08524767 0.08827844 0.09912718\n",
      "  0.09191042 0.10325568]\n",
      " [0.10351549 0.08786442 0.1046989  0.0923111  0.10993807 0.11566676\n",
      "  0.1122017  0.09763167]\n",
      " [0.13988235 0.10239186 0.14299779 0.13299657 0.13363259 0.14429275\n",
      "  0.12498774 0.19491374]\n",
      " [0.12225219 0.13031371 0.11669956 0.10777277 0.12329455 0.13683143\n",
      "  0.14374616 0.09628456]]\n"
     ]
    }
   ],
   "source": [
    "groups = {\"SVC\": 0, \"Trees\": 1, \"NB\": 2, \"Neighbors\":3, \"Linear\":4, \"DA\":5, \"nn\":6, \"Dummy\":7}\n",
    "\n",
    "MAE_matrix = np.zeros((8,8))\n",
    "\n",
    "for trained_on in groups.keys():\n",
    "    for eval_on in groups.keys(): \n",
    "        file_dir = f\"experiment1/trained{trained_on}/eval{eval_on}/aggregate/data_summary_trained{trained_on}_eval{eval_on}.txt\"\n",
    "        with open(file_dir, 'r') as file:\n",
    "            lines = file.readlines()\n",
    "            \n",
    "        print(lines[1])\n",
    "        \n",
    "        MAE_info = lines[1]\n",
    "        \n",
    "        x = MAE_info.split(\" \")[3].removeprefix(\"avg:\").removesuffix(\",\")\n",
    "        MAE = float(x)\n",
    "        \n",
    "        MAE_matrix[groups[trained_on]][groups[eval_on]] = MAE\n",
    "\n",
    "print(MAE_matrix)\n",
    "\n",
    "pass"
   ]
  },
  {
   "cell_type": "code",
   "execution_count": 27,
   "outputs": [
    {
     "data": {
      "text/plain": "<matplotlib.image.AxesImage at 0x1fee9e40130>"
     },
     "execution_count": 27,
     "metadata": {},
     "output_type": "execute_result"
    },
    {
     "data": {
      "text/plain": "<Figure size 480x480 with 1 Axes>",
      "image/png": "[encoded data removed]"
     },
     "metadata": {},
     "output_type": "display_data"
    }
   ],
   "source": [
    "plt.matshow(MAE_matrix) "
   ],
   "metadata": {
    "collapsed": false,
    "ExecuteTime": {
     "end_time": "2025-05-15T06:44:29.426916700Z",
     "start_time": "2025-05-15T06:44:29.179312600Z"
    }
   },
   "id": "ae24d9c3f27720ba"
  }
 ],
 "metadata": {
  "kernelspec": {
   "display_name": "Python 3",
   "language": "python",
   "name": "python3"
  },
  "language_info": {
   "codemirror_mode": {
    "name": "ipython",
    "version": 2
   },
   "file_extension": ".py",
   "mimetype": "text/x-python",
   "name": "python",
   "nbconvert_exporter": "python",
   "pygments_lexer": "ipython2",
   "version": "2.7.6"
  }
 },
 "nbformat": 4,
 "nbformat_minor": 5
}
