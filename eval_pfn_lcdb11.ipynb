{
 "cells": [
  {
   "cell_type": "markdown",
   "id": "50064a54",
   "metadata": {},
   "source": [
    "# Evaluation: Extrapolate the learning curve with a cutoff"
   ]
  },
  {
   "cell_type": "code",
   "execution_count": 130,
   "id": "2d627399-e989-432e-b12f-f5aa1b62dae6",
   "metadata": {
    "ExecuteTime": {
     "end_time": "2025-06-12T16:30:59.906716200Z",
     "start_time": "2025-06-12T16:30:59.767655400Z"
    }
   },
   "outputs": [],
   "source": [
    "import h5py\n",
    "import numpy as np\n",
    "import sklearn.metrics as metrics\n",
    "import torch\n",
    "import random\n",
    "import scipy\n",
    "import matplotlib.pyplot as plt\n",
    "from tqdm import tqdm\n",
    "import math\n",
    "from scipy.optimize import curve_fit\n",
    "from sklearn.metrics import mean_squared_error\n",
    "from sklearn.model_selection import train_test_split\n",
    "from pathlib import Path\n",
    "import warnings\n",
    "warnings.filterwarnings('ignore')\n",
    "\n",
    "import lcpfn \n",
    "from lcpfn import bar_distribution, encoders, train\n",
    "from lcpfn import train as lctrain"
   ]
  },
  {
   "cell_type": "markdown",
   "id": "a31317b2",
   "metadata": {},
   "source": [
    "### Load LCDB 1.1 data"
   ]
  },
  {
   "cell_type": "code",
   "execution_count": 131,
   "id": "fab69730",
   "metadata": {
    "ExecuteTime": {
     "end_time": "2025-06-12T16:31:03.008625Z",
     "start_time": "2025-06-12T16:30:59.794462600Z"
    }
   },
   "outputs": [],
   "source": [
    "### hyperparameter\n",
    "OPENML_ID = {0: '3', 1: '6', 2: '11', 3: '12', 4: '13', 5: '14', 6: '15', 7: '16', 8: '18', 9: '21', 10: '22', 11: '23', 12: '24', 13: '26', 14: '28', 15: '29', 16: '30', 17: '31', 18: '32', 19: '36', 20: '37', 21: '38', 22: '44', 23: '46', 24: '50', 25: '54', 26: '55', 27: '57', 28: '60', 29: '61', 30: '151', 31: '179', 32: '180', 33: '181', 34: '182', 35: '184', 36: '185', 37: '188', 38: '201', 39: '273', 40: '293', 41: '299', 42: '300', 43: '307', 44: '336', 45: '346', 46: '351', 47: '354', 48: '357', 49: '380', 50: '389', 51: '390', 52: '391', 53: '392', 54: '393', 55: '395', 56: '396', 57: '398', 58: '399', 59: '401', 60: '446', 61: '458', 62: '469', 63: '554', 64: '679', 65: '715', 66: '718', 67: '720', 68: '722', 69: '723', 70: '727', 71: '728', 72: '734', 73: '735', 74: '737', 75: '740', 76: '741', 77: '743', 78: '751', 79: '752', 80: '761', 81: '772', 82: '797', 83: '799', 84: '803', 85: '806', 86: '807', 87: '813', 88: '816', 89: '819', 90: '821', 91: '822', 92: '823', 93: '833', 94: '837', 95: '843', 96: '845', 97: '846', 98: '847', 99: '849', 100: '866', 101: '871', 102: '881', 103: '897', 104: '901', 105: '903', 106: '904', 107: '910', 108: '912', 109: '913', 110: '914', 111: '917', 112: '923', 113: '930', 114: '934', 115: '953', 116: '958', 117: '959', 118: '962', 119: '966', 120: '971', 121: '976', 122: '977', 123: '978', 124: '979', 125: '980', 126: '991', 127: '993', 128: '995', 129: '1000', 130: '1002', 131: '1018', 132: '1019', 133: '1020', 134: '1021', 135: '1036', 136: '1040', 137: '1041', 138: '1042', 139: '1049', 140: '1050', 141: '1053', 142: '1056', 143: '1063', 144: '1067', 145: '1068', 146: '1069', 147: '1083', 148: '1084', 149: '1085', 150: '1086', 151: '1087', 152: '1088', 153: '1116', 154: '1119', 155: '1120', 156: '1128', 157: '1130', 158: '1134', 159: '1138', 160: '1139', 161: '1142', 162: '1146', 163: '1161', 164: '1166', 165: '1216', 166: '1233', 167: '1235', 168: '1236', 169: '1441', 170: '1448', 171: '1450', 172: '1457', 173: '1461', 174: '1462', 175: '1464', 176: '1465', 177: '1468', 178: '1475', 179: '1477', 180: '1478', 181: '1479', 182: '1480', 183: '1483', 184: '1485', 185: '1486', 186: '1487', 187: '1488', 188: '1489', 189: '1494', 190: '1497', 191: '1499', 192: '1501', 193: '1503', 194: '1509', 195: '1510', 196: '1515', 197: '1566', 198: '1567', 199: '1575', 200: '1590', 201: '1592', 202: '1597', 203: '4134', 204: '4135', 205: '4137', 206: '4534', 207: '4538', 208: '4541', 209: '6332', 210: '23381', 211: '23512', 212: '23517', 213: '40498', 214: '40499', 215: '40664', 216: '40668', 217: '40670', 218: '40672', 219: '40677', 220: '40685', 221: '40687', 222: '40701', 223: '40713', 224: '40900', 225: '40910', 226: '40923', 227: '40927', 228: '40966', 229: '40971', 230: '40975', 231: '40978', 232: '40979', 233: '40981', 234: '40982', 235: '40983', 236: '40984', 237: '40994', 238: '40996', 239: '41027', 240: '41142', 241: '41143', 242: '41144', 243: '41145', 244: '41146', 245: '41150', 246: '41156', 247: '41157', 248: '41158', 249: '41159', 250: '41161', 251: '41163', 252: '41164', 253: '41165', 254: '41166', 255: '41167', 256: '41168', 257: '41169', 258: '41228', 259: '41972', 260: '42734', 261: '42742', 262: '42769', 263: '42809', 264: '42810'}\n",
    "LEARNER_ZOO = {0: 'SVC_linear', 1: 'SVC_poly', 2: 'SVC_rbf', 3: 'SVC_sigmoid', 4: 'Decision Tree', 5: 'ExtraTree', 6: 'LogisticRegression', 7: 'PassiveAggressive', 8: 'Perceptron', 9: 'RidgeClassifier', 10: 'SGDClassifier', 11: 'MLP', 12: 'LDA', 13: 'QDA', 14: 'BernoulliNB', 15: 'MultinomialNB', 16: 'ComplementNB', 17: 'GaussianNB', 18: 'KNN', 19: 'NearestCentroid', 20: 'ens.ExtraTrees', 21: 'ens.RandomForest', 22: 'ens.GradientBoosting', 23: 'DummyClassifier'}\n",
    "ANCHOR_SIZE = np.ceil(16 * 2 ** ((np.arange(137)) / 8)).astype(int)\n",
    "\n",
    "### load data: validation accuracy\n",
    "lc_data = h5py.File(Path.cwd() / 'dataset/LCDB11_ACC_265_noFS_raw.hdf5', 'r')['accuracy'][...][:,:,:,:,:,1]\n",
    "\n",
    "mean_valid_lc_nofs =np.nanmean(lc_data, axis=(2, 3))"
   ]
  },
  {
   "cell_type": "code",
   "execution_count": 132,
   "id": "274e882b",
   "metadata": {
    "ExecuteTime": {
     "end_time": "2025-06-12T16:31:03.247194600Z",
     "start_time": "2025-06-12T16:31:03.010634300Z"
    }
   },
   "outputs": [
    {
     "name": "stdout",
     "output_type": "stream",
     "text": [
      "Train data shape: (5300, 1, 137)\n",
      "Test data UD shape: (1325, 1, 137)\n",
      "Test data UL shape: (5300, 1, 137)\n",
      "Test data UDUL shape: (1325, 1, 137)\n"
     ]
    }
   ],
   "source": [
    "### dataset split\n",
    "experiment = 4\n",
    "data_split_state = 42\n",
    "trained_on = \"ExtraTree\"\n",
    "eval_on = trained_on\n",
    "train_data_indices, test_data_indices = train_test_split(np.arange(len(OPENML_ID)), \n",
    "                                                         test_size=0.2, \n",
    "                                                         random_state=data_split_state)\n",
    "AUGMENT = True\n",
    "augment_string = \"no_augment\"\n",
    "if AUGMENT:\n",
    "    augment_string = \"augment\"\n",
    "\n",
    "groups = {\n",
    "    \"SVC\": [0, 1, 2, 3],\n",
    "    \"Trees\": [4, 5, 20, 21, 22],\n",
    "    \"NB\": [14, 15, 16, 17],\n",
    "    \"Neighbors\": [18, 19],\n",
    "    \"DA\": [12, 13],\n",
    "    \"Linear\": [6, 7, 8, 9, 10],\n",
    "    \"nn\": [11],\n",
    "    \"Dummy\": [23],\n",
    "    \"QDA\": [13],\n",
    "    \"LDA\": [12],\n",
    "    \"Sigmoid\": [3],\n",
    "    \"Centroid\": [19],\n",
    "    \"Gradient\": [22],\n",
    "    \"ExtraTree\": [5]\n",
    "}\n",
    "\n",
    "### learner split\n",
    "train_learner_indices = np.array(groups[trained_on])    \n",
    "test_learner_indices = np.array(groups[eval_on])    \n",
    "\n",
    "### UD, UL, UDUL\n",
    "train_data = lc_data[train_data_indices][:, train_learner_indices, :].transpose(0, 2, 3, 1, 4).reshape(-1, 1, 137)\n",
    "test_data_UD = lc_data[test_data_indices][:, train_learner_indices, :].transpose(0, 2, 3, 1, 4).reshape(-1, 1, 137)\n",
    "test_data_UL = lc_data[train_data_indices][:, test_learner_indices, :].transpose(0, 2, 3, 1, 4).reshape(-1, 1, 137)\n",
    "test_data_UDUL = lc_data[test_data_indices][:, test_learner_indices, :].transpose(0, 2, 3, 1, 4).reshape(-1, 1, 137)\n",
    "\n",
    "print(f\"Train data shape: {train_data.shape}\")  \n",
    "print(f\"Test data UD shape: {test_data_UD.shape}\")\n",
    "print(f\"Test data UL shape: {test_data_UL.shape}\")\n",
    "print(f\"Test data UDUL shape: {test_data_UDUL.shape}\")"
   ]
  },
  {
   "cell_type": "markdown",
   "id": "d6dc8df6-5267-4888-bc5a-e5e942331b79",
   "metadata": {},
   "source": [
    "### Load trained LC-PFN model"
   ]
  },
  {
   "cell_type": "code",
   "execution_count": 133,
   "id": "0630ddb0",
   "metadata": {
    "ExecuteTime": {
     "end_time": "2025-06-12T16:31:03.317460200Z",
     "start_time": "2025-06-12T16:31:03.252531800Z"
    }
   },
   "outputs": [
    {
     "name": "stdout",
     "output_type": "stream",
     "text": [
      "models_experiment4/ExtraTree/lcpfn_ExtraTree_state42_300_augment.pth\n"
     ]
    },
    {
     "data": {
      "text/plain": "TransformerModel(\n  (transformer_encoder): TransformerEncoder(\n    (layers): ModuleList(\n      (0-2): 3 x TransformerEncoderLayer(\n        (self_attn): MultiheadAttention(\n          (out_proj): NonDynamicallyQuantizableLinear(in_features=128, out_features=128, bias=True)\n        )\n        (linear1): Linear(in_features=128, out_features=256, bias=True)\n        (dropout): Dropout(p=0.2, inplace=False)\n        (linear2): Linear(in_features=256, out_features=128, bias=True)\n        (norm1): LayerNorm((128,), eps=1e-05, elementwise_affine=True)\n        (norm2): LayerNorm((128,), eps=1e-05, elementwise_affine=True)\n        (dropout1): Dropout(p=0.2, inplace=False)\n        (dropout2): Dropout(p=0.2, inplace=False)\n      )\n    )\n  )\n  (encoder): Sequential(\n    (0): Normalize()\n    (1): Normalize()\n    (2): Linear(in_features=1, out_features=128, bias=True)\n  )\n  (y_encoder): Sequential(\n    (0): Normalize()\n    (1): Linear(in_features=1, out_features=128, bias=True)\n  )\n  (pos_encoder): NoPositionalEncoding()\n  (decoder): Sequential(\n    (0): Linear(in_features=128, out_features=256, bias=True)\n    (1): GELU()\n    (2): Linear(in_features=256, out_features=1000, bias=True)\n  )\n  (criterion): FullSupportBarDistribution()\n)"
     },
     "execution_count": 133,
     "metadata": {},
     "output_type": "execute_result"
    }
   ],
   "source": [
    "model_dir = f\"models_experiment{experiment}/{trained_on}/lcpfn_{trained_on}_state{data_split_state}_300_{augment_string}.pth\"\n",
    "print(model_dir)\n",
    "model = torch.load(model_dir, weights_only=False)\n",
    "model.eval()  "
   ]
  },
  {
   "cell_type": "markdown",
   "id": "88c7d102",
   "metadata": {},
   "source": [
    "### Inference "
   ]
  },
  {
   "cell_type": "code",
   "execution_count": 134,
   "id": "648854c9",
   "metadata": {
    "ExecuteTime": {
     "end_time": "2025-06-12T16:31:03.551916600Z",
     "start_time": "2025-06-12T16:31:03.297966Z"
    }
   },
   "outputs": [
    {
     "data": {
      "text/plain": "<Figure size 640x480 with 1 Axes>",
      "image/png": "[encoded data removed]"
     },
     "metadata": {},
     "output_type": "display_data"
    }
   ],
   "source": [
    "random_idx = 0\n",
    "curve = train_data[random_idx]  # (1, 137)\n",
    "curve = curve[~np.isnan(curve)]\n",
    "\n",
    "y = torch.from_numpy(curve).float().unsqueeze(-1)\n",
    "x = torch.arange(1, y.shape[0] + 1).unsqueeze(-1).float()  \n",
    "\n",
    "# construct \n",
    "num_last_anchor = 20\n",
    "cutoff = len(curve) - num_last_anchor\n",
    "\n",
    "x_train = x[:cutoff]\n",
    "y_train = y[:cutoff]\n",
    "x_test = x[cutoff:]\n",
    "qs = [0.05, 0.5, 0.95]\n",
    "\n",
    "normalizer = lcpfn.utils.identity_normalizer()\n",
    "\n",
    "y_train_norm = normalizer[0](y_train)\n",
    "\n",
    "# forward\n",
    "single_eval_pos = x_train.shape[0]\n",
    "x = torch.cat([x_train, x_test], dim=0).unsqueeze(1)\n",
    "y = y_train.unsqueeze(1)\n",
    "\n",
    "logits = model((x, y), single_eval_pos=single_eval_pos)\n",
    "\n",
    "predictions = normalizer[1](\n",
    "    torch.cat([model.criterion.icdf(logits, q) for q in qs], dim=1)\n",
    ")\n",
    "\n",
    "x_test_np = x[cutoff:].detach().cpu().numpy().flatten()\n",
    "pred_mean = predictions[:, 1].detach().cpu().numpy()\n",
    "pred_lower = predictions[:, 0].detach().cpu().numpy()\n",
    "pred_upper = predictions[:, 2].detach().cpu().numpy()\n",
    "\n",
    "# plot\n",
    "plt.plot(curve, \"black\", label=\"target\")\n",
    "plt.plot(x_test_np, pred_mean, \"blue\", label=\"Extrapolation by PFN\")\n",
    "plt.fill_between(x_test_np, pred_lower, pred_upper, color=\"blue\", alpha=0.2, label=\"CI of 90%\")\n",
    "plt.vlines(cutoff, 0, 1, linewidth=0.5, color=\"k\", label=\"cutoff\")\n",
    "plt.ylim(0, 1)\n",
    "plt.legend(loc=\"lower right\")\n",
    "plt.show()"
   ]
  },
  {
   "cell_type": "markdown",
   "id": "03252d0f",
   "metadata": {},
   "source": [
    "### design your own metrics to evaluate"
   ]
  },
  {
   "cell_type": "code",
   "execution_count": 135,
   "outputs": [
    {
     "name": "stdout",
     "output_type": "stream",
     "text": [
      "0\n",
      "100\n",
      "200\n",
      "300\n",
      "400\n",
      "500\n",
      "600\n",
      "700\n",
      "800\n",
      "900\n",
      "1000\n",
      "1100\n",
      "1200\n",
      "1300\n",
      "Done\n"
     ]
    }
   ],
   "source": [
    "mean_absolute_errors = []\n",
    "CI_sizes = []\n",
    "percent_inside_CI = []\n",
    "#test_data_UD.shape[0] -1\n",
    "for i in range(0, test_data_UDUL.shape[0] - 1):\n",
    "    curve = test_data_UDUL[i]  # (1, 137)\n",
    "    curve = curve[~np.isnan(curve)]\n",
    "    \n",
    "    y = torch.from_numpy(curve).float().unsqueeze(-1)\n",
    "    x = torch.arange(1, y.shape[0] + 1).unsqueeze(-1).float()  \n",
    "    \n",
    "    if len(curve) <= 20:\n",
    "        continue\n",
    "    \n",
    "    # construct \n",
    "    num_last_anchor = 20\n",
    "    cutoff = len(curve) - num_last_anchor\n",
    "    \n",
    "    x_train = x[:cutoff]\n",
    "    y_train = y[:cutoff]\n",
    "    x_test = x[cutoff:]\n",
    "    qs = [0.05, 0.5, 0.95]\n",
    "    \n",
    "    normalizer = lcpfn.utils.identity_normalizer()\n",
    "    \n",
    "    y_train_norm = normalizer[0](y_train)\n",
    "    \n",
    "    # forward\n",
    "    single_eval_pos = x_train.shape[0]\n",
    "    x = torch.cat([x_train, x_test], dim=0).unsqueeze(1)\n",
    "    y = y_train.unsqueeze(1)\n",
    "    \n",
    "    logits = model((x, y), single_eval_pos=single_eval_pos)\n",
    "    \n",
    "    predictions = normalizer[1](\n",
    "        torch.cat([model.criterion.icdf(logits, q) for q in qs], dim=1)\n",
    "    )\n",
    "    \n",
    "    x_test_np = x[cutoff:].detach().cpu().numpy().flatten()\n",
    "    pred_mean = predictions[:, 1].detach().cpu().numpy()\n",
    "    pred_lower = predictions[:, 0].detach().cpu().numpy()\n",
    "    pred_upper = predictions[:, 2].detach().cpu().numpy()\n",
    "    curve_real_values = curve[cutoff:]\n",
    "    \n",
    "    # For every anchor in the extrapolation compute mse and size of confidence interval\n",
    "    n = len(x_test_np)\n",
    "    curve_avg_CI_size = np.average(pred_upper-pred_lower)\n",
    "    curve_mae = metrics.mean_absolute_error(curve_real_values, pred_mean)\n",
    "    curve_inside_CI = np.average(np.where((pred_upper > curve_real_values) & (curve_real_values > pred_lower),1,0))\n",
    "    if i%100 == 0:\n",
    "        print(i)\n",
    "    \n",
    "    mean_absolute_errors.append(curve_mae)\n",
    "    CI_sizes.append(curve_avg_CI_size)\n",
    "    percent_inside_CI.append(curve_inside_CI)\n",
    "    \n",
    "print(\"Done\")"
   ],
   "metadata": {
    "collapsed": false,
    "ExecuteTime": {
     "end_time": "2025-06-12T16:31:19.097986700Z",
     "start_time": "2025-06-12T16:31:03.544545500Z"
    }
   },
   "id": "9fd7512398d554aa"
  },
  {
   "cell_type": "markdown",
   "source": [
    "#### Aggregate the data and make relevant plots"
   ],
   "metadata": {
    "collapsed": false
   },
   "id": "130a254642a522aa"
  },
  {
   "cell_type": "code",
   "execution_count": 136,
   "outputs": [
    {
     "data": {
      "text/plain": "<Figure size 640x480 with 1 Axes>",
      "image/png": "[encoded data removed]"
     },
     "metadata": {},
     "output_type": "display_data"
    },
    {
     "data": {
      "text/plain": "<Figure size 640x480 with 2 Axes>",
      "image/png": "[encoded data removed]"
     },
     "metadata": {},
     "output_type": "display_data"
    }
   ],
   "source": [
    "avg_MAE = np.average(mean_absolute_errors)\n",
    "avg_CI_sizes = np.average(CI_sizes)\n",
    "avg_percent_in_CI = np.average(percent_inside_CI)\n",
    "\n",
    "def create_CI_plot():\n",
    "    plt.hist(CI_sizes, bins=40, density=True)\n",
    "    plt.title(\"Distribution of the Confidence Interval Sizes\")\n",
    "    \n",
    "    kde = scipy.stats.gaussian_kde(CI_sizes)\n",
    "    x_vals = np.linspace(min(CI_sizes), max(CI_sizes), 500)\n",
    "    plt.plot(x_vals, kde(x_vals), 'r-', linewidth=2, label='KDE')\n",
    "\n",
    "def create_MEA_PercentCI():\n",
    "    plt.hist2d(x=mean_absolute_errors, \n",
    "           y=percent_inside_CI, \n",
    "           bins=(40,40), \n",
    "           cmap='inferno')\n",
    "    plt.colorbar(label='Count')\n",
    "    plt.xlabel('Mean Absolute Error')\n",
    "    plt.ylabel('Percentage Inside Confidence Interval')\n",
    "    plt.title('2D Histogram: MAE vs CI accuracy')\n",
    "\n",
    "\n",
    "create_CI_plot()\n",
    "plt.show()\n",
    "\n",
    "create_MEA_PercentCI()\n",
    "plt.show()\n",
    "# plt.hlines(avg_percent_out_CI)\n",
    "\n",
    "\n",
    "# # plot\n",
    "# plt.plot(curve, \"black\", label=\"target\")\n",
    "# plt.plot(x_test_np, pred_mean, \"blue\", label=\"Extrapolation by PFN\")\n",
    "# plt.fill_between(x_test_np, pred_lower, pred_upper, color=\"blue\", alpha=0.2, label=\"CI of 90%\")\n",
    "# plt.vlines(cutoff, 0, 1, linewidth=0.5, color=\"k\", label=\"cutoff\")\n",
    "# plt.ylim(0, 1)\n",
    "# plt.legend(loc=\"lower right\")\n",
    "# plt.show()"
   ],
   "metadata": {
    "collapsed": false,
    "ExecuteTime": {
     "end_time": "2025-06-12T16:31:19.837787100Z",
     "start_time": "2025-06-12T16:31:19.101331900Z"
    }
   },
   "id": "64ec7e6cc7086d3e"
  },
  {
   "cell_type": "markdown",
   "source": [
    "#### Save results to file"
   ],
   "metadata": {
    "collapsed": false
   },
   "id": "aff18550c9cbf2ee"
  },
  {
   "cell_type": "code",
   "execution_count": 137,
   "outputs": [],
   "source": [
    "import os\n",
    "\n",
    "directory = f\"experiment{experiment}/trained{trained_on}/eval{eval_on}/state{data_split_state}{augment_string}\"\n",
    "os.makedirs(directory, exist_ok=True)\n",
    "\n",
    "with open(f\"{directory}/data_summary.txt\", \"w\") as f:\n",
    "    f.write(mean_absolute_errors.__str__())\n",
    "    f.write(\"\\n\")\n",
    "    f.write(avg_MAE.__str__())\n",
    "    f.write(\"\\n\")\n",
    "    f.write(percent_inside_CI.__str__())\n",
    "    f.write(\"\\n\")\n",
    "    f.write(avg_percent_in_CI.__str__())\n",
    "    f.write(\"\\n\")\n",
    "    f.write(CI_sizes.__str__())\n",
    "    f.write(\"\\n\")\n",
    "    f.write(avg_CI_sizes.__str__())\n",
    "    f.write(\"\\n\")\n",
    "    f.write(model_dir)\n",
    "    \n",
    "    \n",
    "create_CI_plot()\n",
    "plt.savefig(f\"{directory}/ci_sizes.png\")\n",
    "plt.close()\n",
    "\n",
    "create_MEA_PercentCI()\n",
    "plt.savefig(f\"{directory}/MEA_vs_PercentInCI\")\n",
    "plt.close()"
   ],
   "metadata": {
    "collapsed": false,
    "ExecuteTime": {
     "end_time": "2025-06-12T16:31:20.499461900Z",
     "start_time": "2025-06-12T16:31:19.837787100Z"
    }
   },
   "id": "d5659ece5b999be8"
  },
  {
   "cell_type": "markdown",
   "source": [
    "#### Model equality test used for testing seeding\n",
    "\n",
    "source: https://discuss.pytorch.org/t/check-if-models-have-same-weights/4351/6"
   ],
   "metadata": {
    "collapsed": false
   },
   "id": "8312bab0e5584773"
  },
  {
   "cell_type": "code",
   "execution_count": 138,
   "outputs": [],
   "source": [
    "# model_a = torch.load(\"models_experiment3/QDA/lcpfn_QDA_state42_300_augment.pth\", weights_only=False)\n",
    "# model_b = torch.load(\"models_experiment2/QDA/lcpfn_QDA_state42_300_augment.pth\", weights_only=False)\n",
    "# model_a.eval()  \n",
    "# model_b.eval()\n",
    "# \n",
    "# def compare_models(model_1, model_2):\n",
    "#     models_differ = 0\n",
    "#     for key_item_1, key_item_2 in zip(model_1.state_dict().items(), model_2.state_dict().items()):\n",
    "#         if torch.equal(key_item_1[1], key_item_2[1]):\n",
    "#             pass\n",
    "#         else:\n",
    "#             models_differ += 1\n",
    "#             if (key_item_1[0] == key_item_2[0]):\n",
    "#                 print('Mismtach found at', key_item_1[0])\n",
    "#             else:\n",
    "#                 raise Exception\n",
    "#     if models_differ == 0:\n",
    "#         print('Models match perfectly! :)')\n",
    "# \n",
    "# compare_models(model_a, model_b)"
   ],
   "metadata": {
    "collapsed": false,
    "ExecuteTime": {
     "end_time": "2025-06-12T16:31:20.515385300Z",
     "start_time": "2025-06-12T16:31:20.499461900Z"
    }
   },
   "id": "cf9efda7d027f62b"
  },
  {
   "cell_type": "code",
   "execution_count": 138,
   "outputs": [],
   "source": [],
   "metadata": {
    "collapsed": false,
    "ExecuteTime": {
     "end_time": "2025-06-12T16:31:20.547098800Z",
     "start_time": "2025-06-12T16:31:20.531198600Z"
    }
   },
   "id": "e298517e5a21a3b8"
  }
 ],
 "metadata": {
  "kernelspec": {
   "display_name": "lc-env",
   "language": "python",
   "name": "python3"
  },
  "language_info": {
   "codemirror_mode": {
    "name": "ipython",
    "version": 3
   },
   "file_extension": ".py",
   "mimetype": "text/x-python",
   "name": "python",
   "nbconvert_exporter": "python",
   "pygments_lexer": "ipython3",
   "version": "3.12.9"
  }
 },
 "nbformat": 4,
 "nbformat_minor": 5
}
